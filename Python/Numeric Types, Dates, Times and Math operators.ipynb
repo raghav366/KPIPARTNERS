{
 "cells": [
  {
   "cell_type": "code",
   "execution_count": 1,
   "id": "1c74f56d",
   "metadata": {},
   "outputs": [
    {
     "name": "stdout",
     "output_type": "stream",
     "text": [
      "Type of a:  <class 'int'>\n",
      "2\n"
     ]
    }
   ],
   "source": [
    "a = 10\n",
    "print(\"Type of a: \", type(a))\n",
    "#int(x) -> converts x to integer type\n",
    "print(int(2.5))\n"
   ]
  },
  {
   "cell_type": "code",
   "execution_count": 2,
   "id": "260619ce",
   "metadata": {},
   "outputs": [
    {
     "name": "stdout",
     "output_type": "stream",
     "text": [
      "Type of b:  <class 'float'>\n",
      "37.0\n"
     ]
    }
   ],
   "source": [
    "b = 24.0\n",
    "print(\"Type of b: \", type(b))\n",
    "#use float(x) -> converts x to float type\n",
    "print(float(37))\n"
   ]
  },
  {
   "cell_type": "code",
   "execution_count": 3,
   "id": "6425f285",
   "metadata": {},
   "outputs": [
    {
     "name": "stdout",
     "output_type": "stream",
     "text": [
      "Type of c:  <class 'complex'>\n",
      "(21+0j)\n"
     ]
    }
   ],
   "source": [
    "c = 3 + 5j\n",
    "print(\"Type of c: \", type(c))\n",
    "#complex(x) is used to convert x to complex type\n",
    "myComplex = complex(21)\n",
    "print(myComplex)"
   ]
  },
  {
   "cell_type": "code",
   "execution_count": 4,
   "id": "6028665e",
   "metadata": {},
   "outputs": [
    {
     "name": "stdout",
     "output_type": "stream",
     "text": [
      "0.1000000000000000055511151231257827021181583404541015625\n"
     ]
    }
   ],
   "source": [
    "import decimal\n",
    "print(decimal.Decimal(0.1))"
   ]
  },
  {
   "cell_type": "code",
   "execution_count": 5,
   "id": "5c49f3fe",
   "metadata": {},
   "outputs": [
    {
     "name": "stdout",
     "output_type": "stream",
     "text": [
      "3.3\n",
      "3.000\n"
     ]
    }
   ],
   "source": [
    "from decimal import Decimal as D\n",
    "print(D('1.1') + D('2.2'))\n",
    "print(D('1.2') * D('2.50'))"
   ]
  },
  {
   "cell_type": "code",
   "execution_count": 6,
   "id": "bd5bbe3a",
   "metadata": {},
   "outputs": [
    {
     "name": "stdout",
     "output_type": "stream",
     "text": [
      "1/8\n",
      "2476979795053773/2251799813685248\n"
     ]
    }
   ],
   "source": [
    "# While creating Fraction from float, we might get some unusual results.\n",
    "# This is due to the imperfect binary floating point number representation as discussed in the previous section.\n",
    "from fractions import Fraction\n",
    "print(Fraction(0.125))\n",
    "print(Fraction(1.1))"
   ]
  },
  {
   "cell_type": "code",
   "execution_count": 7,
   "id": "1161b3d2",
   "metadata": {},
   "outputs": [
    {
     "name": "stdout",
     "output_type": "stream",
     "text": [
      "11/10\n"
     ]
    }
   ],
   "source": [
    "# Fraction allows us to instantiate with string as well. This is the preferred option when using decimal numbers.\n",
    "from fractions import Fraction\n",
    "print(Fraction('1.1'))"
   ]
  },
  {
   "cell_type": "code",
   "execution_count": 8,
   "id": "ebccd05f",
   "metadata": {},
   "outputs": [
    {
     "name": "stdout",
     "output_type": "stream",
     "text": [
      "2/3\n",
      "6/5\n"
     ]
    }
   ],
   "source": [
    "# Operations on Fractions\n",
    "from fractions import Fraction as F\n",
    "print(F(1, 3) + F(1, 3))\n",
    "print(1 / F(5, 6))"
   ]
  },
  {
   "cell_type": "code",
   "execution_count": 12,
   "id": "aa2af31e",
   "metadata": {},
   "outputs": [
    {
     "name": "stdout",
     "output_type": "stream",
     "text": [
      "2021-12-20 00:53:56.435637\n",
      "2021\n",
      "Monday\n"
     ]
    }
   ],
   "source": [
    "#One of the classes defined in the datetime module is datetime class.\n",
    "#We then used now() method to create a datetime object containing the current local date and time.\n",
    "import datetime as dt\n",
    "dtobj = dt.datetime.now()\n",
    "print(dtobj)\n",
    "print(dtobj.year)\n",
    "print(dtobj.strftime(\"%A\"))"
   ]
  },
  {
   "cell_type": "code",
   "execution_count": 13,
   "id": "f2dc8282",
   "metadata": {},
   "outputs": [
    {
     "name": "stdout",
     "output_type": "stream",
     "text": [
      "2020-12-18 00:00:00\n"
     ]
    }
   ],
   "source": [
    "#Creating a date object\n",
    "# The datetime() class also takes parameters for time and timezone, but they are optional, and has a default value of 0.\n",
    "import datetime\n",
    "x = datetime.datetime(2020, 12, 18)\n",
    "print(x)\n"
   ]
  },
  {
   "cell_type": "code",
   "execution_count": 14,
   "id": "81852152",
   "metadata": {},
   "outputs": [
    {
     "name": "stdout",
     "output_type": "stream",
     "text": [
      "5\n",
      "25\n"
     ]
    }
   ],
   "source": [
    "#The min() and max() functions can be used to find the lowest or highest value in an iterable:\n",
    "x = min(5, 10, 25)\n",
    "y = max(5, 10, 25)\n",
    "print(x)\n",
    "print(y)\n"
   ]
  },
  {
   "cell_type": "code",
   "execution_count": 15,
   "id": "7a5d992a",
   "metadata": {},
   "outputs": [
    {
     "name": "stdout",
     "output_type": "stream",
     "text": [
      "abs(-7.25) is:  7.25\n",
      "pow(4, 3) is:  64\n"
     ]
    }
   ],
   "source": [
    "#The abs() function returns the absolute (positive) value of the specified number:\n",
    "a = abs(-7.25)\n",
    "print(\"abs(-7.25) is: \",a)\n",
    "#The pow(x, y) function returns the value of x to the power of y (xy).\n",
    "b = pow(4, 3)\n",
    "print(\"pow(4, 3) is: \",b)"
   ]
  },
  {
   "cell_type": "code",
   "execution_count": 16,
   "id": "031535f7",
   "metadata": {},
   "outputs": [
    {
     "name": "stdout",
     "output_type": "stream",
     "text": [
      "3.141592653589793\n",
      "7.38905609893065\n",
      "3.0\n",
      "720\n",
      "8.0\n",
      "2\n",
      "1\n"
     ]
    }
   ],
   "source": [
    "import math\n",
    "print(math.pi)\n",
    "print(math.exp(2))\n",
    "print(math.log10(1000))\n",
    "print(math.factorial(6))\n",
    "print(math.sqrt(64))\n",
    "print(math.ceil(1.4))\n",
    "print(math.floor(1.4))"
   ]
  },
  {
   "cell_type": "code",
   "execution_count": 17,
   "id": "e3b6875c",
   "metadata": {},
   "outputs": [
    {
     "name": "stdout",
     "output_type": "stream",
     "text": [
      "103.256\n",
      "96.744\n",
      "325.59999999999997\n",
      "30.712530712530715\n",
      "30.0\n",
      "2\n",
      "1728\n"
     ]
    }
   ],
   "source": [
    "x = 100\n",
    "y = 3.256\n",
    "print(x + y)\n",
    "print(x - y)\n",
    "print(x * y)\n",
    "print(x / y)\n",
    "print(x // y) #floor division\n",
    "print(x % 7) #modulus operator\n",
    "print(12 ** 3) #exponent\n"
   ]
  },
  {
   "cell_type": "code",
   "execution_count": null,
   "id": "80bae36b",
   "metadata": {},
   "outputs": [],
   "source": []
  }
 ],
 "metadata": {
  "kernelspec": {
   "display_name": "Python 3 (ipykernel)",
   "language": "python",
   "name": "python3"
  },
  "language_info": {
   "codemirror_mode": {
    "name": "ipython",
    "version": 3
   },
   "file_extension": ".py",
   "mimetype": "text/x-python",
   "name": "python",
   "nbconvert_exporter": "python",
   "pygments_lexer": "ipython3",
   "version": "3.9.7"
  }
 },
 "nbformat": 4,
 "nbformat_minor": 5
}
