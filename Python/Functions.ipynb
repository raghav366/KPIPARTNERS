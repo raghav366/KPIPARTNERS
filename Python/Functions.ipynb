{
 "cells": [
  {
   "cell_type": "code",
   "execution_count": 1,
   "id": "735b156b",
   "metadata": {},
   "outputs": [
    {
     "name": "stdout",
     "output_type": "stream",
     "text": [
      "This is a local function\n"
     ]
    }
   ],
   "source": [
    "\n",
    "def local_function():\n",
    " print(\"This is a local function\")\n",
    "local_function()\n"
   ]
  },
  {
   "cell_type": "code",
   "execution_count": 3,
   "id": "325f043b",
   "metadata": {},
   "outputs": [
    {
     "name": "stdout",
     "output_type": "stream",
     "text": [
      "inside a\n",
      "inside b\n"
     ]
    }
   ],
   "source": [
    "def a():\n",
    " def b():\n",
    "     print(\"inside b\")\n",
    " print(\"inside a\")\n",
    " b()\n",
    "a()"
   ]
  },
  {
   "cell_type": "code",
   "execution_count": 5,
   "id": "bcab6974",
   "metadata": {},
   "outputs": [
    {
     "name": "stdout",
     "output_type": "stream",
     "text": [
      "This is a nested function\n"
     ]
    }
   ],
   "source": [
    "def outer_func():\n",
    " def inner_func():\n",
    "     print(\"This is a nested function\")\n",
    " inner_func()\n",
    "outer_func()\n"
   ]
  },
  {
   "cell_type": "code",
   "execution_count": 7,
   "id": "e1950775",
   "metadata": {},
   "outputs": [
    {
     "name": "stdout",
     "output_type": "stream",
     "text": [
      "This is a nested function 'hi!'\n"
     ]
    }
   ],
   "source": [
    "def outer_func(a):\n",
    " def inner_func():\n",
    "     print(\"This is a nested function\",a)\n",
    " inner_func()\n",
    "outer_func(\"'hi!'\")\n"
   ]
  },
  {
   "cell_type": "code",
   "execution_count": 8,
   "id": "281b2905",
   "metadata": {},
   "outputs": [
    {
     "data": {
      "text/plain": [
       "100"
      ]
     },
     "execution_count": 8,
     "metadata": {},
     "output_type": "execute_result"
    }
   ],
   "source": [
    "def abc(x):\n",
    " return x**2\n",
    "def xyz(func):\n",
    " num=10\n",
    " return func(num)\n",
    "xyz(abc)"
   ]
  },
  {
   "cell_type": "code",
   "execution_count": 12,
   "id": "32436d6d",
   "metadata": {
    "scrolled": true
   },
   "outputs": [
    {
     "name": "stdout",
     "output_type": "stream",
     "text": [
      "8\n"
     ]
    }
   ],
   "source": [
    "def generate_power(exponent):\n",
    " def power(base):\n",
    "     return base ** exponent\n",
    " return power\n",
    "g = generate_power(3)\n",
    "print(g(2)) "
   ]
  },
  {
   "cell_type": "code",
   "execution_count": 2,
   "id": "900fa6f1",
   "metadata": {},
   "outputs": [
    {
     "name": "stdout",
     "output_type": "stream",
     "text": [
      "hello all !!!\n",
      "hello all !!!\n"
     ]
    }
   ],
   "source": [
    "#Example for normal function calling\n",
    "def addexclamation(function):\n",
    " def add():\n",
    "     func = function()\n",
    "     return func +\" !!!\"\n",
    " return add\n",
    "def sentence():\n",
    " return \"hello all\"\n",
    "msg = addexclamation(sentence)\n",
    "print(msg())\n",
    "#Example of using decorators on same above example\n",
    "def addexclamation(function):\n",
    " def add():\n",
    "     func = function()\n",
    "     return func +\" !!!\"\n",
    " return add\n",
    "@addexclamation\n",
    "def sentence():\n",
    " return \"hello all\"\n",
    "print(sentence())"
   ]
  },
  {
   "cell_type": "code",
   "execution_count": 3,
   "id": "653beeb8",
   "metadata": {},
   "outputs": [
    {
     "name": "stdout",
     "output_type": "stream",
     "text": [
      "*hello all !!!*\n"
     ]
    }
   ],
   "source": [
    "#Applying multiple decorators on same callable\n",
    "def addstar(func):\n",
    " def star():\n",
    "     return \"*\"+func()+\"*\"\n",
    " return star\n",
    "@addstar\n",
    "@addexclamation\n",
    "def sentence():\n",
    "     return \"hello all\"\n",
    "print(sentence())\n"
   ]
  },
  {
   "cell_type": "code",
   "execution_count": 4,
   "id": "30771eb1",
   "metadata": {},
   "outputs": [
    {
     "name": "stdout",
     "output_type": "stream",
     "text": [
      "5 6\n",
      "arguments are 5 and 6\n"
     ]
    }
   ],
   "source": [
    "#Example for decorator with arguments\n",
    "def args_function(func):\n",
    " def getargs(arg1,arg2):\n",
    "     print(arg1,arg2)\n",
    "     func(arg1,arg2)\n",
    " return getargs\n",
    "@args_function\n",
    "def decorator_with_args(num1,num2):\n",
    " print(\"arguments are {} and {}\".format(num1,num2))\n",
    "decorator_with_args(5,6)"
   ]
  },
  {
   "cell_type": "code",
   "execution_count": null,
   "id": "71a1c59e",
   "metadata": {},
   "outputs": [],
   "source": []
  }
 ],
 "metadata": {
  "kernelspec": {
   "display_name": "Python 3 (ipykernel)",
   "language": "python",
   "name": "python3"
  },
  "language_info": {
   "codemirror_mode": {
    "name": "ipython",
    "version": 3
   },
   "file_extension": ".py",
   "mimetype": "text/x-python",
   "name": "python",
   "nbconvert_exporter": "python",
   "pygments_lexer": "ipython3",
   "version": "3.9.7"
  }
 },
 "nbformat": 4,
 "nbformat_minor": 5
}
