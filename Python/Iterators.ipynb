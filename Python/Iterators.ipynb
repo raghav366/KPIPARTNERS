{
 "cells": [
  {
   "cell_type": "code",
   "execution_count": 1,
   "id": "3e3fc35c",
   "metadata": {},
   "outputs": [
    {
     "name": "stdout",
     "output_type": "stream",
     "text": [
      "4\n",
      "7\n",
      "0\n",
      "3\n"
     ]
    },
    {
     "ename": "StopIteration",
     "evalue": "",
     "output_type": "error",
     "traceback": [
      "\u001b[1;31m---------------------------------------------------------------------------\u001b[0m",
      "\u001b[1;31mStopIteration\u001b[0m                             Traceback (most recent call last)",
      "\u001b[1;32mC:\\Users\\RAGHAV~1\\AppData\\Local\\Temp/ipykernel_7916/1932000471.py\u001b[0m in \u001b[0;36m<module>\u001b[1;34m\u001b[0m\n\u001b[0;32m     14\u001b[0m \u001b[0mprint\u001b[0m\u001b[1;33m(\u001b[0m\u001b[0mmy_iter\u001b[0m\u001b[1;33m.\u001b[0m\u001b[0m__next__\u001b[0m\u001b[1;33m(\u001b[0m\u001b[1;33m)\u001b[0m\u001b[1;33m)\u001b[0m\u001b[1;33m\u001b[0m\u001b[1;33m\u001b[0m\u001b[0m\n\u001b[0;32m     15\u001b[0m \u001b[1;31m# This will raise error, no items left\u001b[0m\u001b[1;33m\u001b[0m\u001b[1;33m\u001b[0m\u001b[0m\n\u001b[1;32m---> 16\u001b[1;33m \u001b[0mnext\u001b[0m\u001b[1;33m(\u001b[0m\u001b[0mmy_iter\u001b[0m\u001b[1;33m)\u001b[0m\u001b[1;33m\u001b[0m\u001b[1;33m\u001b[0m\u001b[0m\n\u001b[0m",
      "\u001b[1;31mStopIteration\u001b[0m: "
     ]
    }
   ],
   "source": [
    "# define a list\n",
    "my_list = [4, 7, 0, 3]\n",
    "# get an iterator using iter()\n",
    "my_iter = iter(my_list)\n",
    "# iterate through it using next()\n",
    "# Output: 4\n",
    "print(next(my_iter))\n",
    "# Output: 7\n",
    "print(next(my_iter))\n",
    "# next(obj) is same as obj.__next__()\n",
    "# Output: 0\n",
    "print(my_iter.__next__())\n",
    "# Output: 3\n",
    "print(my_iter.__next__())\n",
    "# This will raise error, no items left\n",
    "next(my_iter)"
   ]
  },
  {
   "cell_type": "code",
   "execution_count": 2,
   "id": "0fb0f978",
   "metadata": {},
   "outputs": [
    {
     "name": "stdout",
     "output_type": "stream",
     "text": [
      "['__class__', '__delattr__', '__dir__', '__doc__', '__eq__', '__format__', '__ge__', '__getattribute__', '__gt__', '__hash__', '__init__', '__init_subclass__', '__iter__', '__le__', '__length_hint__', '__lt__', '__ne__', '__new__', '__next__', '__reduce__', '__reduce_ex__', '__repr__', '__setattr__', '__setstate__', '__sizeof__', '__str__', '__subclasshook__']\n"
     ]
    }
   ],
   "source": [
    "print(dir(my_iter))"
   ]
  },
  {
   "cell_type": "code",
   "execution_count": 3,
   "id": "7f898fbf",
   "metadata": {},
   "outputs": [
    {
     "name": "stdout",
     "output_type": "stream",
     "text": [
      "Berlin\n",
      "Vienna\n",
      "Zurich\n",
      "\n",
      "\n",
      "Python\n",
      "Perl\n",
      "Ruby\n",
      "I t e r a t i o n   i s   e a s y "
     ]
    }
   ],
   "source": [
    "#Simple for loop use in python\n",
    "for city in [\"Berlin\", \"Vienna\", \"Zurich\"]:\n",
    " print(city)\n",
    "print(\"\\n\")\n",
    "for city in (\"Python\", \"Perl\", \"Ruby\"):\n",
    " print(city)\n",
    "for char in \"Iteration is easy\":\n",
    " print(char, end = \" \")"
   ]
  },
  {
   "cell_type": "code",
   "execution_count": 4,
   "id": "a318746b",
   "metadata": {},
   "outputs": [
    {
     "name": "stdout",
     "output_type": "stream",
     "text": [
      "Berlin\n",
      "Vienna\n",
      "Zurich\n"
     ]
    }
   ],
   "source": [
    "#Code 2 : Function ‘iterable’ will return True, if the object ‘obj’ is an iterable and False otherwise.\n",
    "# list of cities\n",
    "cities = [\"Berlin\", \"Vienna\", \"Zurich\"]\n",
    "# initialize the object\n",
    "iterator_obj = iter(cities)\n",
    "print(next(iterator_obj))\n",
    "print(next(iterator_obj))\n",
    "print(next(iterator_obj))\n",
    "#Note: If ‘next(iterator_obj)’ is called one more time, it would return ‘StopIteration’."
   ]
  },
  {
   "cell_type": "code",
   "execution_count": 8,
   "id": "e69a326f",
   "metadata": {},
   "outputs": [
    {
     "name": "stdout",
     "output_type": "stream",
     "text": [
      "34  is iterable :  False\n",
      "[4, 5]  is iterable :  True\n",
      "(4, 5)  is iterable :  True\n",
      "{'a': 4}  is iterable :  True\n",
      "dfsdf  is iterable :  True\n",
      "4.5  is iterable :  False\n"
     ]
    }
   ],
   "source": [
    "#Code 3 : Check object is iterable or not\n",
    "# Function to check object\n",
    "# is iterable or not \n",
    "def iterable(obj):\n",
    " try:\n",
    "     iter(obj)\n",
    "     return True\n",
    " \n",
    " except TypeError:\n",
    "     return False\n",
    " \n",
    "#Driver Code \n",
    "for element in [34, [4, 5], (4, 5),\n",
    " {\"a\":4}, \"dfsdf\", 4.5]:\n",
    " \n",
    " print(element, \" is iterable : \", iterable(element))"
   ]
  },
  {
   "cell_type": "markdown",
   "id": "26a10836",
   "metadata": {},
   "source": [
    "# Collections"
   ]
  },
  {
   "cell_type": "code",
   "execution_count": 9,
   "id": "7630105d",
   "metadata": {},
   "outputs": [
    {
     "data": {
      "text/plain": [
       "Counter({1: 1, 3: 2, 2: 2, 5: 1, 7: 1, 9: 2, 6: 1})"
      ]
     },
     "execution_count": 9,
     "metadata": {},
     "output_type": "execute_result"
    }
   ],
   "source": [
    "#counter-forms like key value pairs \n",
    "#key-element, value-count of element\n",
    "from collections import Counter\n",
    "lst=[1,3,2,5,7,9,3,2,6,9]\n",
    "Counter(lst)"
   ]
  },
  {
   "cell_type": "code",
   "execution_count": 10,
   "id": "127524e2",
   "metadata": {},
   "outputs": [
    {
     "name": "stdout",
     "output_type": "stream",
     "text": [
      "1\n",
      "[(3, 2), (2, 2), (9, 2), (1, 1), (5, 1), (7, 1), (6, 1)]\n"
     ]
    }
   ],
   "source": [
    "cnt = Counter(lst)\n",
    "print(cnt[1])\n",
    "print(cnt.most_common()) #list of frequency of elements in decreasing order"
   ]
  },
  {
   "cell_type": "code",
   "execution_count": 11,
   "id": "33c4fe78",
   "metadata": {},
   "outputs": [
    {
     "name": "stdout",
     "output_type": "stream",
     "text": [
      "[1, 1, 1, 4, 4, 2, 2]\n"
     ]
    }
   ],
   "source": [
    "cnt = Counter({1:3,4:2,2:2})\n",
    "print(list(cnt.elements())) #list of all elements in counter"
   ]
  },
  {
   "cell_type": "code",
   "execution_count": 12,
   "id": "77e978a0",
   "metadata": {},
   "outputs": [
    {
     "name": "stdout",
     "output_type": "stream",
     "text": [
      "Counter({1: 2, 4: 1, 2: 1})\n"
     ]
    }
   ],
   "source": [
    "deduct={1:1,4:1,2:1}\n",
    "cnt.subtract(deduct)\n",
    "print(cnt)"
   ]
  },
  {
   "cell_type": "code",
   "execution_count": 13,
   "id": "027e61a2",
   "metadata": {},
   "outputs": [
    {
     "name": "stdout",
     "output_type": "stream",
     "text": [
      "details(name='arathi', age=22)\n"
     ]
    }
   ],
   "source": [
    "from collections import namedtuple\n",
    "a = namedtuple('details','name, age')\n",
    "s = a('arathi',22)\n",
    "print(s)"
   ]
  },
  {
   "cell_type": "code",
   "execution_count": 14,
   "id": "bad01dcd",
   "metadata": {},
   "outputs": [
    {
     "name": "stdout",
     "output_type": "stream",
     "text": [
      "details(name='abcd', age=21)\n"
     ]
    }
   ],
   "source": [
    "#using list to get values\n",
    "s = a._make(['abcd',21])\n",
    "print(s)"
   ]
  },
  {
   "cell_type": "code",
   "execution_count": 15,
   "id": "c0f7df68",
   "metadata": {},
   "outputs": [
    {
     "name": "stdout",
     "output_type": "stream",
     "text": [
      "courses(name='data science', technology='python')\n"
     ]
    }
   ],
   "source": [
    "from collections import namedtuple\n",
    "a=namedtuple('courses','name,technology')\n",
    "s=a('data science','python')\n",
    "print(s)"
   ]
  },
  {
   "cell_type": "code",
   "execution_count": 16,
   "id": "658725a3",
   "metadata": {},
   "outputs": [
    {
     "name": "stdout",
     "output_type": "stream",
     "text": [
      "data science\n",
      "python\n"
     ]
    }
   ],
   "source": [
    "for i in s:\n",
    " print(i)"
   ]
  },
  {
   "cell_type": "code",
   "execution_count": 17,
   "id": "6c868379",
   "metadata": {},
   "outputs": [
    {
     "name": "stdout",
     "output_type": "stream",
     "text": [
      "data science\n",
      "python\n"
     ]
    }
   ],
   "source": [
    "itr=iter(s)\n",
    "while True:\n",
    " try:\n",
    "     print(next(itr))\n",
    " except StopIteration:\n",
    "     break"
   ]
  },
  {
   "cell_type": "code",
   "execution_count": 2,
   "id": "3a4f65a3",
   "metadata": {},
   "outputs": [
    {
     "name": "stdout",
     "output_type": "stream",
     "text": [
      "deque(['a', 'e', 'i', 'o', 'u'])\n"
     ]
    }
   ],
   "source": [
    "#optimised list\n",
    "from collections import deque\n",
    "lst = ['a','e','i','o','u']\n",
    "dequelst = deque(lst)\n",
    "print(dequelst)"
   ]
  },
  {
   "cell_type": "code",
   "execution_count": 19,
   "id": "47692828",
   "metadata": {},
   "outputs": [
    {
     "name": "stdout",
     "output_type": "stream",
     "text": [
      "deque(['a', 'e', 'i', 'o', 'u', 'b'])\n"
     ]
    }
   ],
   "source": [
    "dequelst.append('b')\n",
    "print(dequelst)"
   ]
  },
  {
   "cell_type": "code",
   "execution_count": 20,
   "id": "8112270b",
   "metadata": {},
   "outputs": [
    {
     "name": "stdout",
     "output_type": "stream",
     "text": [
      "deque(['z', 'a', 'e', 'i', 'o', 'u', 'b'])\n"
     ]
    }
   ],
   "source": [
    "dequelst.appendleft('z')\n",
    "print(dequelst)"
   ]
  },
  {
   "cell_type": "code",
   "execution_count": 21,
   "id": "58e07cbe",
   "metadata": {},
   "outputs": [
    {
     "name": "stdout",
     "output_type": "stream",
     "text": [
      "deque(['z', 'a', 'e', 'i', 'o', 'u'])\n"
     ]
    }
   ],
   "source": [
    "dequelst.pop() #last element deleted\n",
    "print(dequelst)"
   ]
  },
  {
   "cell_type": "code",
   "execution_count": 22,
   "id": "d1a29cbf",
   "metadata": {},
   "outputs": [
    {
     "name": "stdout",
     "output_type": "stream",
     "text": [
      "deque(['a', 'e', 'i', 'o', 'u'])\n"
     ]
    }
   ],
   "source": [
    "dequelst.popleft() #frst element deleted\n",
    "print(dequelst)"
   ]
  },
  {
   "cell_type": "code",
   "execution_count": 23,
   "id": "cd5c316e",
   "metadata": {},
   "outputs": [
    {
     "name": "stdout",
     "output_type": "stream",
     "text": [
      "deque(['a', 'm', 'i', 't', 'h', 'a'])\n"
     ]
    }
   ],
   "source": [
    "from collections import deque\n",
    "a=['a','m','i','t','h','a']\n",
    "d=deque(a)\n",
    "print(d)"
   ]
  },
  {
   "cell_type": "code",
   "execution_count": 24,
   "id": "8e90fde5",
   "metadata": {},
   "outputs": [
    {
     "name": "stdout",
     "output_type": "stream",
     "text": [
      "a m i t h a "
     ]
    }
   ],
   "source": [
    "itr=iter(a)\n",
    "while True:\n",
    " try:\n",
    "     print(next(itr),end=' ')\n",
    " except StopIteration:\n",
    "     break\n"
   ]
  },
  {
   "cell_type": "code",
   "execution_count": 25,
   "id": "f7ae8326",
   "metadata": {},
   "outputs": [
    {
     "name": "stdout",
     "output_type": "stream",
     "text": [
      "ChainMap({1: 'm', 2: 'n'}, {3: 'x', 4: 'y'})\n"
     ]
    }
   ],
   "source": [
    "from collections import ChainMap\n",
    "a={1:'m',2:'n'}\n",
    "b={3:'x',4:'y'}\n",
    "d=ChainMap(a,b)\n",
    "print(d)"
   ]
  },
  {
   "cell_type": "code",
   "execution_count": 26,
   "id": "c388828e",
   "metadata": {},
   "outputs": [
    {
     "name": "stdout",
     "output_type": "stream",
     "text": [
      "(3, 'x')\n",
      "(4, 'y')\n",
      "(1, 'm')\n",
      "(2, 'n')\n"
     ]
    }
   ],
   "source": [
    "for i in d.items():\n",
    " print(i)"
   ]
  },
  {
   "cell_type": "code",
   "execution_count": 27,
   "id": "bc1d9239",
   "metadata": {},
   "outputs": [
    {
     "name": "stdout",
     "output_type": "stream",
     "text": [
      "(3, 'x')\n",
      "(4, 'y')\n",
      "(1, 'm')\n",
      "(2, 'n')\n"
     ]
    }
   ],
   "source": [
    "itr=iter(d.items())\n",
    "while True:\n",
    " try:\n",
    "     print(next(itr))\n",
    " except StopIteration:\n",
    "     break"
   ]
  },
  {
   "cell_type": "code",
   "execution_count": 28,
   "id": "4fdccc7b",
   "metadata": {},
   "outputs": [
    {
     "name": "stdout",
     "output_type": "stream",
     "text": [
      "OrderedDict([(1, 'a'), (2, 'r'), (3, 'a'), (4, 't'), (5, 'h'), (6, 'i')])\n"
     ]
    }
   ],
   "source": [
    "from collections import OrderedDict\n",
    "d = OrderedDict()\n",
    "d[1] = 'a'\n",
    "d[2] = 'r'\n",
    "d[3] = 'a'\n",
    "d[4] = 't'\n",
    "d[5] = 'h'\n",
    "d[6] = 'i'\n",
    "print(d)\n"
   ]
  },
  {
   "cell_type": "code",
   "execution_count": 29,
   "id": "e123ff62",
   "metadata": {},
   "outputs": [
    {
     "name": "stdout",
     "output_type": "stream",
     "text": [
      "OrderedDict([(1, 'a'), (2, 'a'), (3, 'a'), (4, 't'), (5, 'h'), (6, 'i')])\n"
     ]
    }
   ],
   "source": [
    "d[2]='a'\n",
    "print(d)"
   ]
  },
  {
   "cell_type": "code",
   "execution_count": 30,
   "id": "87010304",
   "metadata": {},
   "outputs": [
    {
     "name": "stdout",
     "output_type": "stream",
     "text": [
      "odict_keys([1, 2, 3, 4, 5, 6])\n",
      "1 a 2 a 3 a 4 t 5 h 6 i "
     ]
    }
   ],
   "source": [
    "print(d.keys())\n",
    "for key,val in d.items(): #similar to dictionary\n",
    " print(key,val,end=' ')"
   ]
  },
  {
   "cell_type": "code",
   "execution_count": 31,
   "id": "ae1010c4",
   "metadata": {},
   "outputs": [
    {
     "name": "stdout",
     "output_type": "stream",
     "text": [
      "odict_keys([1, 2, 3, 4, 5, 6])\n"
     ]
    }
   ],
   "source": [
    "print(d.keys())"
   ]
  },
  {
   "cell_type": "code",
   "execution_count": 32,
   "id": "642aab0d",
   "metadata": {},
   "outputs": [
    {
     "name": "stdout",
     "output_type": "stream",
     "text": [
      "(1, 'a')\n",
      "(2, 'a')\n",
      "(3, 'a')\n",
      "(4, 't')\n",
      "(5, 'h')\n",
      "(6, 'i')\n"
     ]
    }
   ],
   "source": [
    "itr=iter(d.items())\n",
    "while True:\n",
    " try:\n",
    "     print(next(itr))\n",
    " except StopIteration:\n",
    "     break"
   ]
  },
  {
   "cell_type": "code",
   "execution_count": 33,
   "id": "e986d223",
   "metadata": {},
   "outputs": [
    {
     "name": "stdout",
     "output_type": "stream",
     "text": [
      "defaultdict(<class 'int'>, {1: 'abc', 2: 'efg'})\n",
      "0\n"
     ]
    }
   ],
   "source": [
    "from collections import defaultdict\n",
    "d = defaultdict(int)\n",
    "d[1]='abc'\n",
    "d[2]='efg'\n",
    "print(d)\n",
    "print(d[3]) #returns 0 if no value for that key, whereas normal dictionary gives keyerror"
   ]
  },
  {
   "cell_type": "code",
   "execution_count": 34,
   "id": "d6f526f2",
   "metadata": {},
   "outputs": [
    {
     "name": "stdout",
     "output_type": "stream",
     "text": [
      "defaultdict(<class 'int'>, {1: 'AI', 2: 'ML'})\n"
     ]
    }
   ],
   "source": [
    "from collections import defaultdict\n",
    "d=defaultdict(int)\n",
    "d[1]='AI'\n",
    "d[2]='ML'\n",
    "print(d)\n"
   ]
  },
  {
   "cell_type": "code",
   "execution_count": 35,
   "id": "59de3948",
   "metadata": {},
   "outputs": [
    {
     "name": "stdout",
     "output_type": "stream",
     "text": [
      "(1, 'AI')\n",
      "(2, 'ML')\n"
     ]
    }
   ],
   "source": [
    "for i in d.items():\n",
    " print(i)"
   ]
  },
  {
   "cell_type": "code",
   "execution_count": 36,
   "id": "cdad1c0c",
   "metadata": {},
   "outputs": [
    {
     "name": "stdout",
     "output_type": "stream",
     "text": [
      "(1, 'AI')\n",
      "(2, 'ML')\n"
     ]
    }
   ],
   "source": [
    "itr=iter(d.items())\n",
    "while True:\n",
    " try:\n",
    "     print(next(itr))\n",
    " except StopIteration:\n",
    "     break\n"
   ]
  },
  {
   "cell_type": "code",
   "execution_count": 37,
   "id": "52e315cd",
   "metadata": {},
   "outputs": [
    {
     "name": "stdout",
     "output_type": "stream",
     "text": [
      "0\n"
     ]
    }
   ],
   "source": [
    "print(d[3])"
   ]
  },
  {
   "cell_type": "code",
   "execution_count": null,
   "id": "297592d9",
   "metadata": {},
   "outputs": [],
   "source": []
  }
 ],
 "metadata": {
  "kernelspec": {
   "display_name": "Python 3 (ipykernel)",
   "language": "python",
   "name": "python3"
  },
  "language_info": {
   "codemirror_mode": {
    "name": "ipython",
    "version": 3
   },
   "file_extension": ".py",
   "mimetype": "text/x-python",
   "name": "python",
   "nbconvert_exporter": "python",
   "pygments_lexer": "ipython3",
   "version": "3.9.7"
  }
 },
 "nbformat": 4,
 "nbformat_minor": 5
}
