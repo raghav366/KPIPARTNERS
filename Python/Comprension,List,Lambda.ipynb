{
 "cells": [
  {
   "cell_type": "code",
   "execution_count": 5,
   "id": "8f14f37a",
   "metadata": {},
   "outputs": [
    {
     "name": "stdout",
     "output_type": "stream",
     "text": [
      "[0, 1, 4, 9, 16, 25, 36, 49, 64, 81]\n"
     ]
    }
   ],
   "source": [
    "list1 = [x**2 for x in range(10)]\n",
    "print(list1)"
   ]
  },
  {
   "cell_type": "code",
   "execution_count": 1,
   "id": "d574df5b",
   "metadata": {},
   "outputs": [
    {
     "name": "stdout",
     "output_type": "stream",
     "text": [
      "[2, 8, 14, 22]\n"
     ]
    }
   ],
   "source": [
    "list2 = [5,2,7,8,14,22]\n",
    "list3 = [x for x in list2 if x%2==0]\n",
    "print(list3)\n"
   ]
  },
  {
   "cell_type": "code",
   "execution_count": 2,
   "id": "5c257afd",
   "metadata": {},
   "outputs": [
    {
     "name": "stdout",
     "output_type": "stream",
     "text": [
      "25\n",
      "4\n"
     ]
    }
   ],
   "source": [
    "#lambda - is a function without a name and lambda keyword is used to define this anonymous function\n",
    "#Syntax -> lambda arguments: expression\n",
    "x = lambda a:a**2\n",
    "print(x(5))\n",
    "y = lambda a,b:a-b\n",
    "print(y(10,6))"
   ]
  },
  {
   "cell_type": "code",
   "execution_count": 6,
   "id": "ba1b5412",
   "metadata": {},
   "outputs": [
    {
     "name": "stdout",
     "output_type": "stream",
     "text": [
      "[2, 4, 6]\n"
     ]
    }
   ],
   "source": [
    "#filter() - filters the given sequence using the lambda function that tests each element in the sequence to be true or not.\n",
    "#Syntax -> filter(function, sequence)\n",
    "l = [1,2,3,4,5,6,7]\n",
    "newl = list(filter(lambda x:x%2==0,l))\n",
    "print(newl)"
   ]
  },
  {
   "cell_type": "code",
   "execution_count": 7,
   "id": "6b7642b7",
   "metadata": {},
   "outputs": [
    {
     "name": "stdout",
     "output_type": "stream",
     "text": [
      "[2, 3, 4, 5, 6, 7, 8, 9, 10, 11]\n"
     ]
    }
   ],
   "source": [
    "#map() - generates a new sequence by executing a specified function for each element of a given sequence\n",
    "#Syntax -> map(function, iterables)\n",
    "num = []\n",
    "for i in range(10):\n",
    " num.append(i)\n",
    "newnum = list(map(lambda x:x+2,num))\n",
    "print(newnum)"
   ]
  },
  {
   "cell_type": "code",
   "execution_count": 8,
   "id": "09fc5bd7",
   "metadata": {},
   "outputs": [
    {
     "name": "stdout",
     "output_type": "stream",
     "text": [
      "[8, 64]\n"
     ]
    }
   ],
   "source": [
    "s='1 2 3 4'\n",
    "l=s.split()\n",
    "m=list(map(int,l))\n",
    "n=list(map(lambda x:x**3,m))\n",
    "o=list(filter(lambda x:(x%2==0),n))\n",
    "print(o)\n"
   ]
  },
  {
   "cell_type": "markdown",
   "id": "1703c72e",
   "metadata": {},
   "source": [
    "# Dictionary"
   ]
  },
  {
   "cell_type": "code",
   "execution_count": 9,
   "id": "901023ad",
   "metadata": {},
   "outputs": [
    {
     "name": "stdout",
     "output_type": "stream",
     "text": [
      "{2: 7, 6: 11, 8: 13}\n"
     ]
    }
   ],
   "source": [
    "#Eg1:\n",
    "lst = [2,5,6,3,8]\n",
    "dict = {x:x+5 for x in lst if x%2==0}\n",
    "print(dict)\n"
   ]
  },
  {
   "cell_type": "code",
   "execution_count": 10,
   "id": "422df67b",
   "metadata": {},
   "outputs": [
    {
     "name": "stdout",
     "output_type": "stream",
     "text": [
      "{1: 5, 2: 8, 3: 7}\n"
     ]
    }
   ],
   "source": [
    "#Eg2:\n",
    "l1 = [1,2,3]\n",
    "l2 = [5,8,7]\n",
    "dict1 = {key:value for (key,value) in zip(l1, l2)}\n",
    "print(dict1)"
   ]
  },
  {
   "cell_type": "code",
   "execution_count": 11,
   "id": "63cd0762",
   "metadata": {},
   "outputs": [
    {
     "name": "stdout",
     "output_type": "stream",
     "text": [
      "{'john': 33}\n"
     ]
    }
   ],
   "source": [
    "#Eg3:\n",
    "#Multiple if Conditional Dictionary Comprehension\n",
    "dict = {'jack': 38, 'michael': 48, 'guido': 57, 'john': 33}\n",
    "new_dict = {k: v for (k, v) in dict.items() if v%2!=0 if v<40}\n",
    "print(new_dict)\n"
   ]
  },
  {
   "cell_type": "code",
   "execution_count": 12,
   "id": "51063a21",
   "metadata": {},
   "outputs": [
    {
     "name": "stdout",
     "output_type": "stream",
     "text": [
      "{'jack': 'young', 'michael': 'old', 'guido': 'old', 'john': 'young'}\n"
     ]
    }
   ],
   "source": [
    "#Eg4:\n",
    "#if-else Conditional Dictionary Comprehension\n",
    "dct = {'jack': 38, 'michael': 48, 'guido': 57, 'john': 33}\n",
    "new_dct = {k: ('old' if v > 40 else 'young')\n",
    " for (k, v) in dct.items()}\n",
    "print(new_dct)\n"
   ]
  },
  {
   "cell_type": "code",
   "execution_count": 13,
   "id": "15dd4a48",
   "metadata": {},
   "outputs": [
    {
     "name": "stdout",
     "output_type": "stream",
     "text": [
      "{2: {1: 2, 2: 4, 3: 6, 4: 8, 5: 10}, 3: {1: 3, 2: 6, 3: 9, 4: 12, 5: 15}, 4: {1: 4, 2: 8, 3: 12, 4: 16, 5: 20}}\n"
     ]
    }
   ],
   "source": [
    "#Eg5:\n",
    "#Nested Dictionary with Two Dictionary Comprehensions\n",
    "dictionary = {k1: {k2: k1 * k2 for k2 in range(1, 6)} for k1 in range(2, 5)}\n",
    "print(dictionary)"
   ]
  },
  {
   "cell_type": "markdown",
   "id": "982c3864",
   "metadata": {},
   "source": [
    "#  set Comprehensions"
   ]
  },
  {
   "cell_type": "code",
   "execution_count": 14,
   "id": "37d87b67",
   "metadata": {},
   "outputs": [
    {
     "name": "stdout",
     "output_type": "stream",
     "text": [
      "{1, 2, 3, 5}\n"
     ]
    }
   ],
   "source": [
    "#Eg1:\n",
    "lst = [1,2,3,2,5,3]\n",
    "set1 = {x for x in lst}\n",
    "print(set1)\n"
   ]
  },
  {
   "cell_type": "code",
   "execution_count": 15,
   "id": "4d33ada3",
   "metadata": {},
   "outputs": [
    {
     "name": "stdout",
     "output_type": "stream",
     "text": [
      "{2, 4, 6}\n"
     ]
    }
   ],
   "source": [
    "#Eg2:\n",
    "#using for loop in set comprehensions\n",
    "input_list = [1, 2, 3, 4, 4, 5, 6, 6, 6, 7, 7]\n",
    "set2 = {var for var in input_list if var % 2 == 0}\n",
    "print(set2)\n"
   ]
  },
  {
   "cell_type": "markdown",
   "id": "8d34bf52",
   "metadata": {},
   "source": [
    "#  Generator Comprehensions"
   ]
  },
  {
   "cell_type": "code",
   "execution_count": 16,
   "id": "dcfe4557",
   "metadata": {},
   "outputs": [
    {
     "name": "stdout",
     "output_type": "stream",
     "text": [
      "0\n",
      "6\n"
     ]
    }
   ],
   "source": [
    "lst = [2,7,5,0,4,6]\n",
    "gen = (x for x in lst if x%3==0)\n",
    "for i in gen:\n",
    " print(i)"
   ]
  },
  {
   "cell_type": "code",
   "execution_count": 17,
   "id": "355aff89",
   "metadata": {},
   "outputs": [
    {
     "name": "stdout",
     "output_type": "stream",
     "text": [
      "0\n",
      "1\n",
      "4\n",
      "9\n",
      "16\n"
     ]
    }
   ],
   "source": [
    "gen2 = (i**2 for i in range(5))\n",
    "for item in gen2:\n",
    " print(item)\n"
   ]
  },
  {
   "cell_type": "code",
   "execution_count": null,
   "id": "727c9deb",
   "metadata": {},
   "outputs": [],
   "source": []
  }
 ],
 "metadata": {
  "kernelspec": {
   "display_name": "Python 3 (ipykernel)",
   "language": "python",
   "name": "python3"
  },
  "language_info": {
   "codemirror_mode": {
    "name": "ipython",
    "version": 3
   },
   "file_extension": ".py",
   "mimetype": "text/x-python",
   "name": "python",
   "nbconvert_exporter": "python",
   "pygments_lexer": "ipython3",
   "version": "3.9.7"
  }
 },
 "nbformat": 4,
 "nbformat_minor": 5
}
