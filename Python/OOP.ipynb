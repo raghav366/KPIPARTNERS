{
 "cells": [
  {
   "cell_type": "code",
   "execution_count": 2,
   "id": "80ed859d",
   "metadata": {},
   "outputs": [
    {
     "name": "stdout",
     "output_type": "stream",
     "text": [
      "Welcome\n"
     ]
    }
   ],
   "source": [
    "class College:\n",
    " def __init__(self): #constructor to initialize attributes\n",
    "     print(\"Welcome\")\n",
    " \n",
    "s1 = College()"
   ]
  },
  {
   "cell_type": "code",
   "execution_count": 4,
   "id": "912f86b2",
   "metadata": {},
   "outputs": [
    {
     "name": "stdout",
     "output_type": "stream",
     "text": [
      "13\n",
      "15\n",
      "29\n"
     ]
    }
   ],
   "source": [
    "class Values:\n",
    " def __init__(self):\n",
    "     self.a = 13\n",
    "     self.b = 15\n",
    "s = Values()\n",
    "print(s.a)\n",
    "print(s.b)\n",
    "s.b = 29 #change values\n",
    "print(s.b)"
   ]
  },
  {
   "cell_type": "code",
   "execution_count": 5,
   "id": "77dc6cd7",
   "metadata": {},
   "outputs": [
    {
     "name": "stdout",
     "output_type": "stream",
     "text": [
      "1\n",
      "2\n",
      "1 2\n"
     ]
    }
   ],
   "source": [
    "class Values2:\n",
    " def __init__(hi,a,b):\n",
    "     hi.a = a\n",
    "     hi.b = b\n",
    "s = Values2(int(input()),int(input()))\n",
    "print(s.a,s.b)"
   ]
  },
  {
   "cell_type": "code",
   "execution_count": 11,
   "id": "76154798",
   "metadata": {},
   "outputs": [
    {
     "name": "stdout",
     "output_type": "stream",
     "text": [
      "arathi\n",
      "22\n",
      "my name is :surya\n",
      "surya\n",
      "arathi\n",
      "surya\n"
     ]
    },
    {
     "ename": "AttributeError",
     "evalue": "'Student' object has no attribute 'name'",
     "output_type": "error",
     "traceback": [
      "\u001b[1;31m---------------------------------------------------------------------------\u001b[0m",
      "\u001b[1;31mAttributeError\u001b[0m                            Traceback (most recent call last)",
      "\u001b[1;32mC:\\Users\\RAGHAV~1\\AppData\\Local\\Temp/ipykernel_7504/2553813590.py\u001b[0m in \u001b[0;36m<module>\u001b[1;34m\u001b[0m\n\u001b[0;32m     18\u001b[0m \u001b[0mprint\u001b[0m\u001b[1;33m(\u001b[0m\u001b[0mS2\u001b[0m\u001b[1;33m.\u001b[0m\u001b[0mname\u001b[0m\u001b[1;33m)\u001b[0m\u001b[1;33m\u001b[0m\u001b[1;33m\u001b[0m\u001b[0m\n\u001b[0;32m     19\u001b[0m \u001b[1;32mdel\u001b[0m \u001b[0mS1\u001b[0m\u001b[1;33m.\u001b[0m\u001b[0mname\u001b[0m \u001b[1;31m#delete properties on objects\u001b[0m\u001b[1;33m\u001b[0m\u001b[1;33m\u001b[0m\u001b[0m\n\u001b[1;32m---> 20\u001b[1;33m \u001b[0mprint\u001b[0m\u001b[1;33m(\u001b[0m\u001b[0mS1\u001b[0m\u001b[1;33m.\u001b[0m\u001b[0mname\u001b[0m\u001b[1;33m)\u001b[0m\u001b[1;33m\u001b[0m\u001b[1;33m\u001b[0m\u001b[0m\n\u001b[0m",
      "\u001b[1;31mAttributeError\u001b[0m: 'Student' object has no attribute 'name'"
     ]
    }
   ],
   "source": [
    "class Student:\n",
    " def __init__(self,name,age):\n",
    "     self.name = name\n",
    "     self.age = age\n",
    " \n",
    " def printname(hi):\n",
    "     print(\"my name is :\"+hi.name)\n",
    "S1 = Student(\"arathi\",22)\n",
    "print(S1.name)\n",
    "print(S1.age)\n",
    "S2 = Student(\"surya\",20)\n",
    "S2.printname()\n",
    "#del S2 # deletes the class object\n",
    "print(S2.name)\n",
    "#del S1.name #delete properties on objects\n",
    "print(S1.name)\n",
    "del S2 # deletes the class object\n",
    "print(S2.name)\n",
    "del S1.name #delete properties on objects\n",
    "print(S1.name)"
   ]
  },
  {
   "cell_type": "markdown",
   "id": "a3dbcd3f",
   "metadata": {},
   "source": [
    "#  Inheritance"
   ]
  },
  {
   "cell_type": "code",
   "execution_count": 12,
   "id": "c2bc8882",
   "metadata": {},
   "outputs": [
    {
     "name": "stdout",
     "output_type": "stream",
     "text": [
      "123 ASIET\n"
     ]
    }
   ],
   "source": [
    "#parent class\n",
    "class Campus():\n",
    " def __init__(self,code,name):\n",
    "     self.code = code\n",
    "     self.name = name\n",
    " \n",
    " def show(self):\n",
    "     print(self.code,self.name)\n",
    "c = Campus(123,'ASIET')\n",
    "c.show()\n"
   ]
  },
  {
   "cell_type": "code",
   "execution_count": 13,
   "id": "eee5ec96",
   "metadata": {},
   "outputs": [
    {
     "name": "stdout",
     "output_type": "stream",
     "text": [
      "456 ABC\n"
     ]
    }
   ],
   "source": [
    "class Student1(Campus):\n",
    " pass\n",
    "s= Student1(456,'ABC') #accessing inherited props of parent class\n",
    "s.show()\n"
   ]
  },
  {
   "cell_type": "code",
   "execution_count": 14,
   "id": "57675774",
   "metadata": {},
   "outputs": [
    {
     "name": "stdout",
     "output_type": "stream",
     "text": [
      "156 QWE\n",
      "156 QWE kerala\n"
     ]
    }
   ],
   "source": [
    "class Student2(Campus):\n",
    " \n",
    " def __init__(self,code,name,address): #using init in child overrides parents init\n",
    " \n",
    "     Campus.__init__(self,code,name) #calling parent init to keep inheritance\n",
    "     self.address = address #additional prop of child class\n",
    " \n",
    " def all3(self):\n",
    "     print(self.code,self.name,self.address)\n",
    " \n",
    "st = Student2(156,'QWE','kerala')\n",
    "st.show()\n",
    "st.all3()\n"
   ]
  },
  {
   "cell_type": "markdown",
   "id": "e600b053",
   "metadata": {},
   "source": [
    "# Multiple inheritance"
   ]
  },
  {
   "cell_type": "code",
   "execution_count": 17,
   "id": "a5049a58",
   "metadata": {},
   "outputs": [
    {
     "name": "stdout",
     "output_type": "stream",
     "text": [
      "A\n",
      "B\n",
      "C\n",
      "hi hello bye\n"
     ]
    }
   ],
   "source": [
    "class A:\n",
    " def __init__(self):\n",
    "     self.str1=\"hi\"\n",
    "     print(\"A\")\n",
    "class B:\n",
    " def __init__(self):\n",
    "     self.str2 = \"hello\"\n",
    "     print(\"B\")\n",
    " \n",
    "class C(A,B):\n",
    " def __init__(self):\n",
    "     A.__init__(self)\n",
    "     B.__init__(self)\n",
    "     self.str3 = \"bye\"\n",
    "     print(\"C\")\n",
    " def printstr(self):\n",
    "    print(self.str1,self.str2,self.str3)\n",
    " \n",
    "cobj = C()\n",
    "cobj.printstr()"
   ]
  },
  {
   "cell_type": "markdown",
   "id": "d65317d0",
   "metadata": {},
   "source": [
    "# Multilevel Inheritance"
   ]
  },
  {
   "cell_type": "code",
   "execution_count": 15,
   "id": "b1108f03",
   "metadata": {},
   "outputs": [
    {
     "name": "stdout",
     "output_type": "stream",
     "text": [
      "1\n",
      "2\n",
      "3\n"
     ]
    }
   ],
   "source": [
    "class A:\n",
    " def __init__(self,num1):\n",
    "     self.num1=num1\n",
    " def printnum1(self):\n",
    "     print(self.num1)\n",
    "class B(A):\n",
    " def __init__(self,num1,num2):\n",
    "     A.__init__(self,num1)\n",
    "     self.num2 = num2\n",
    " def printnum2(self):\n",
    "     print(self.num2)\n",
    " \n",
    "class C(B):\n",
    " def __init__(self,num1,num2,num3):\n",
    "     B.__init__(self,num1,num2)\n",
    "     self.num3 = num3\n",
    " def printnum3(self):\n",
    "     print(self.num3)\n",
    " \n",
    "cobj = C(1,2,3)\n",
    "cobj.printnum1()\n",
    "cobj.printnum2()\n",
    "cobj.printnum3()"
   ]
  },
  {
   "cell_type": "code",
   "execution_count": 19,
   "id": "0e413d04",
   "metadata": {},
   "outputs": [
    {
     "name": "stdout",
     "output_type": "stream",
     "text": [
      "12\n",
      "14\n"
     ]
    }
   ],
   "source": [
    "class Hide:\n",
    " def __init__(self):\n",
    "     self.a=12\n",
    "     self.__b=13 #making b private using __\n",
    "class View(Hide):\n",
    " def __init__(self):\n",
    "     super().__init__() #using super() with no self parameter instead of Hide.__init__(self)\n",
    "     self.c=14\n",
    " \n",
    "v = View()\n",
    "print(v.a)\n",
    "#print(v.b)\n",
    "print(v.c)\n"
   ]
  },
  {
   "cell_type": "code",
   "execution_count": null,
   "id": "13d77cb5",
   "metadata": {},
   "outputs": [],
   "source": []
  }
 ],
 "metadata": {
  "kernelspec": {
   "display_name": "Python 3 (ipykernel)",
   "language": "python",
   "name": "python3"
  },
  "language_info": {
   "codemirror_mode": {
    "name": "ipython",
    "version": 3
   },
   "file_extension": ".py",
   "mimetype": "text/x-python",
   "name": "python",
   "nbconvert_exporter": "python",
   "pygments_lexer": "ipython3",
   "version": "3.9.7"
  }
 },
 "nbformat": 4,
 "nbformat_minor": 5
}
