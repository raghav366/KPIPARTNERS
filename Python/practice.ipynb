{
 "cells": [
  {
   "cell_type": "code",
   "execution_count": 1,
   "id": "6d2be166",
   "metadata": {},
   "outputs": [
    {
     "data": {
      "text/plain": [
       "3.5"
      ]
     },
     "execution_count": 1,
     "metadata": {},
     "output_type": "execute_result"
    }
   ],
   "source": [
    "7/2"
   ]
  },
  {
   "cell_type": "code",
   "execution_count": 2,
   "id": "9027f98a",
   "metadata": {},
   "outputs": [
    {
     "data": {
      "text/plain": [
       "3"
      ]
     },
     "execution_count": 2,
     "metadata": {},
     "output_type": "execute_result"
    }
   ],
   "source": [
    "7//2"
   ]
  },
  {
   "cell_type": "code",
   "execution_count": 3,
   "id": "92760001",
   "metadata": {},
   "outputs": [
    {
     "data": {
      "text/plain": [
       "3.0"
      ]
     },
     "execution_count": 3,
     "metadata": {},
     "output_type": "execute_result"
    }
   ],
   "source": [
    "7.23//2.0"
   ]
  },
  {
   "cell_type": "code",
   "execution_count": 4,
   "id": "1f439143",
   "metadata": {},
   "outputs": [
    {
     "data": {
      "text/plain": [
       "4"
      ]
     },
     "execution_count": 4,
     "metadata": {},
     "output_type": "execute_result"
    }
   ],
   "source": [
    "round(3.5)"
   ]
  },
  {
   "cell_type": "code",
   "execution_count": 6,
   "id": "b7d257cd",
   "metadata": {},
   "outputs": [],
   "source": [
    "import sys"
   ]
  },
  {
   "cell_type": "code",
   "execution_count": 7,
   "id": "8208f48a",
   "metadata": {},
   "outputs": [
    {
     "data": {
      "text/plain": [
       "408"
      ]
     },
     "execution_count": 7,
     "metadata": {},
     "output_type": "execute_result"
    }
   ],
   "source": [
    "sys.getsizeof(int)"
   ]
  },
  {
   "cell_type": "code",
   "execution_count": 8,
   "id": "4e68c1cb",
   "metadata": {},
   "outputs": [],
   "source": [
    "l=[1,10,6,10]"
   ]
  },
  {
   "cell_type": "code",
   "execution_count": 14,
   "id": "bf890c2c",
   "metadata": {},
   "outputs": [],
   "source": [
    "\n",
    "v=set(l)"
   ]
  },
  {
   "cell_type": "code",
   "execution_count": 15,
   "id": "f8b84b43",
   "metadata": {},
   "outputs": [
    {
     "name": "stdout",
     "output_type": "stream",
     "text": [
      "{1, 10, 6}\n"
     ]
    }
   ],
   "source": [
    "\n",
    "print(v)\n"
   ]
  },
  {
   "cell_type": "code",
   "execution_count": 16,
   "id": "63ee8937",
   "metadata": {},
   "outputs": [
    {
     "name": "stdout",
     "output_type": "stream",
     "text": [
      "1*1\n",
      "10*10\n",
      "6*6\n",
      "10*10\n"
     ]
    }
   ],
   "source": [
    "for i in l:\n",
    " print(i,i,sep='*')\n"
   ]
  },
  {
   "cell_type": "code",
   "execution_count": 17,
   "id": "c9e215b3",
   "metadata": {},
   "outputs": [],
   "source": [
    "a=[1,2,3]"
   ]
  },
  {
   "cell_type": "code",
   "execution_count": 18,
   "id": "db48721f",
   "metadata": {},
   "outputs": [
    {
     "name": "stdout",
     "output_type": "stream",
     "text": [
      "<class 'list'>\n"
     ]
    }
   ],
   "source": [
    "print(type(a))"
   ]
  },
  {
   "cell_type": "code",
   "execution_count": 19,
   "id": "f8247bfa",
   "metadata": {},
   "outputs": [
    {
     "name": "stdout",
     "output_type": "stream",
     "text": [
      "40\n"
     ]
    }
   ],
   "source": [
    "a=20\n",
    "b=int(20.45)\n",
    "c=a+b\n",
    "print(c)"
   ]
  },
  {
   "cell_type": "code",
   "execution_count": 20,
   "id": "a87110de",
   "metadata": {},
   "outputs": [
    {
     "name": "stdout",
     "output_type": "stream",
     "text": [
      "<class 'str'>\n"
     ]
    }
   ],
   "source": [
    "a=10\n",
    "b=str(a)\n",
    "print(type(b))\n"
   ]
  },
  {
   "cell_type": "code",
   "execution_count": 21,
   "id": "21f4b66b",
   "metadata": {},
   "outputs": [
    {
     "name": "stdout",
     "output_type": "stream",
     "text": [
      "<class 'int'>\n"
     ]
    }
   ],
   "source": [
    "a='10'\n",
    "a=int(a)\n",
    "print(type(a))"
   ]
  },
  {
   "cell_type": "code",
   "execution_count": 22,
   "id": "22cf3aa8",
   "metadata": {},
   "outputs": [
    {
     "name": "stdout",
     "output_type": "stream",
     "text": [
      "123\n"
     ]
    }
   ],
   "source": [
    "a=int(input())\n"
   ]
  },
  {
   "cell_type": "code",
   "execution_count": 23,
   "id": "8bfb4dee",
   "metadata": {},
   "outputs": [
    {
     "name": "stdout",
     "output_type": "stream",
     "text": [
      "<class 'int'>\n"
     ]
    }
   ],
   "source": [
    "print(type(a))"
   ]
  },
  {
   "cell_type": "code",
   "execution_count": 1,
   "id": "ef26b3c9",
   "metadata": {},
   "outputs": [
    {
     "name": "stdout",
     "output_type": "stream",
     "text": [
      "1234\n"
     ]
    }
   ],
   "source": [
    "b=input()"
   ]
  },
  {
   "cell_type": "code",
   "execution_count": 2,
   "id": "32fa5b94",
   "metadata": {},
   "outputs": [
    {
     "name": "stdout",
     "output_type": "stream",
     "text": [
      "<class 'str'>\n"
     ]
    }
   ],
   "source": [
    "\n",
    "print(type(b))"
   ]
  },
  {
   "cell_type": "code",
   "execution_count": 3,
   "id": "15dd6d1c",
   "metadata": {},
   "outputs": [
    {
     "name": "stdout",
     "output_type": "stream",
     "text": [
      "<class 'str'>\n",
      "<class 'str'>\n",
      "<class 'float'>\n",
      "<class 'int'>\n",
      "5.0\n"
     ]
    }
   ],
   "source": [
    "a = '2'\n",
    "b = '3'\n",
    " \n",
    "# print the data type of a and b\n",
    "print(type(a))\n",
    "print(type(b))\n",
    " \n",
    "# convert a using float\n",
    "a = float(a)\n",
    "print(type(a))\n",
    "# convert b using int\n",
    "b = int(b)\n",
    "print(type(b)) \n",
    "# sum both integers\n",
    "sum = a + b\n",
    " \n",
    "# as strings and integers can't be added\n",
    "# try testing the sum\n",
    "print(sum)\n"
   ]
  },
  {
   "cell_type": "code",
   "execution_count": 4,
   "id": "ef89d958",
   "metadata": {},
   "outputs": [],
   "source": [
    "a='ranveer'\n",
    "b=20"
   ]
  },
  {
   "cell_type": "code",
   "execution_count": 5,
   "id": "b0464aac",
   "metadata": {},
   "outputs": [
    {
     "name": "stdout",
     "output_type": "stream",
     "text": [
      "the value of a=20 and b=ranveer\n"
     ]
    }
   ],
   "source": [
    "print(\"the value of a={1} and b={0}\".format(a,b))"
   ]
  },
  {
   "cell_type": "code",
   "execution_count": 6,
   "id": "2cdeb9b8",
   "metadata": {},
   "outputs": [],
   "source": [
    "l=[]\n"
   ]
  },
  {
   "cell_type": "code",
   "execution_count": 7,
   "id": "b89bca75",
   "metadata": {},
   "outputs": [
    {
     "name": "stdout",
     "output_type": "stream",
     "text": [
      "the first name ranveer and last name is sharma\n"
     ]
    }
   ],
   "source": [
    "print('the first name {} and last name is {}'.format('ranveer','sharma'))"
   ]
  },
  {
   "cell_type": "code",
   "execution_count": 8,
   "id": "74bee705",
   "metadata": {},
   "outputs": [],
   "source": [
    "for i in range(10):\n",
    " l.append(i)"
   ]
  },
  {
   "cell_type": "code",
   "execution_count": 9,
   "id": "25225ca1",
   "metadata": {},
   "outputs": [
    {
     "data": {
      "text/plain": [
       "[0, 1, 2, 3, 4, 5, 6, 7, 8, 9]"
      ]
     },
     "execution_count": 9,
     "metadata": {},
     "output_type": "execute_result"
    }
   ],
   "source": [
    "l\n"
   ]
  },
  {
   "cell_type": "code",
   "execution_count": 10,
   "id": "0a82867c",
   "metadata": {},
   "outputs": [
    {
     "name": "stdout",
     "output_type": "stream",
     "text": [
      "the value is 0\n",
      "the value is 1\n",
      "the value is 2\n",
      "the value is 3\n",
      "the value is 4\n",
      "the value is 5\n",
      "the value is 6\n",
      "the value is 7\n",
      "the value is 8\n",
      "the value is 9\n"
     ]
    }
   ],
   "source": [
    "for i in l:\n",
    " print(\"the value is {}\".format(i))"
   ]
  },
  {
   "cell_type": "code",
   "execution_count": 11,
   "id": "faefcd80",
   "metadata": {},
   "outputs": [
    {
     "name": "stdout",
     "output_type": "stream",
     "text": [
      "enter your name: raghav\n"
     ]
    }
   ],
   "source": [
    "a=input(\"enter your name: \")\n"
   ]
  },
  {
   "cell_type": "code",
   "execution_count": 12,
   "id": "4e0e2af5",
   "metadata": {},
   "outputs": [
    {
     "name": "stdout",
     "output_type": "stream",
     "text": [
      "raghav\n"
     ]
    }
   ],
   "source": [
    "print(a)\n"
   ]
  },
  {
   "cell_type": "code",
   "execution_count": 13,
   "id": "dc782fd7",
   "metadata": {},
   "outputs": [
    {
     "name": "stdout",
     "output_type": "stream",
     "text": [
      "<class 'str'>\n"
     ]
    }
   ],
   "source": [
    "print(type(a))"
   ]
  },
  {
   "cell_type": "code",
   "execution_count": 14,
   "id": "6a2b34d0",
   "metadata": {},
   "outputs": [
    {
     "name": "stdout",
     "output_type": "stream",
     "text": [
      "enter your number23\n"
     ]
    }
   ],
   "source": [
    "a=int(input(\"enter your number\"))"
   ]
  },
  {
   "cell_type": "code",
   "execution_count": 15,
   "id": "df0b5d9b",
   "metadata": {},
   "outputs": [
    {
     "name": "stdout",
     "output_type": "stream",
     "text": [
      "23\n"
     ]
    }
   ],
   "source": [
    "print(a)"
   ]
  },
  {
   "cell_type": "code",
   "execution_count": 16,
   "id": "d650c165",
   "metadata": {},
   "outputs": [
    {
     "name": "stdout",
     "output_type": "stream",
     "text": [
      "<class 'int'>\n"
     ]
    }
   ],
   "source": [
    "print(type(a))"
   ]
  },
  {
   "cell_type": "code",
   "execution_count": 18,
   "id": "eebdaa73",
   "metadata": {},
   "outputs": [
    {
     "name": "stdout",
     "output_type": "stream",
     "text": [
      "0\n",
      "odd\n",
      "2\n",
      "muntiple of 3\n",
      "4\n",
      "odd\n",
      "6\n",
      "odd\n",
      "8\n",
      "muntiple of 3\n"
     ]
    }
   ],
   "source": [
    "\n",
    "for i in range(10):\n",
    " if(i%2==0):\n",
    "     print(i)\n",
    " elif(i%3==0):\n",
    "     print('muntiple of 3')\n",
    " else:\n",
    "     print('odd')\n"
   ]
  },
  {
   "cell_type": "code",
   "execution_count": 19,
   "id": "ee9f08d7",
   "metadata": {},
   "outputs": [
    {
     "name": "stdout",
     "output_type": "stream",
     "text": [
      "20\n",
      "19\n",
      "18\n",
      "17\n",
      "16\n",
      "15\n",
      "14\n",
      "13\n",
      "12\n",
      "11\n",
      "10\n",
      "9\n",
      "8\n",
      "7\n",
      "6\n",
      "5\n",
      "4\n",
      "3\n"
     ]
    }
   ],
   "source": [
    "for i in range(20,2,-1):\n",
    " print(i)\n"
   ]
  },
  {
   "cell_type": "code",
   "execution_count": 20,
   "id": "771837e0",
   "metadata": {},
   "outputs": [
    {
     "name": "stdout",
     "output_type": "stream",
     "text": [
      "[0, 1, 2, 3, 4, 5, 6, 7, 8, 9, 10, 11, 12, 13, 14, 15, 16, 17, 18, 19]\n"
     ]
    }
   ],
   "source": [
    "a=range(0,20)\n",
    "b=list(a)\n",
    "print(b)\n"
   ]
  },
  {
   "cell_type": "code",
   "execution_count": 21,
   "id": "a1b4ae1d",
   "metadata": {},
   "outputs": [],
   "source": [
    "c=[]\n"
   ]
  },
  {
   "cell_type": "code",
   "execution_count": 22,
   "id": "fda8bfc5",
   "metadata": {},
   "outputs": [
    {
     "name": "stdout",
     "output_type": "stream",
     "text": [
      "[]\n"
     ]
    }
   ],
   "source": [
    "print(c)"
   ]
  },
  {
   "cell_type": "code",
   "execution_count": 23,
   "id": "3caf545b",
   "metadata": {},
   "outputs": [
    {
     "name": "stdout",
     "output_type": "stream",
     "text": [
      "[0, 1, 2, 3, 4, 5, 6, 7, 8, 9, 10, 11, 12, 13, 14, 15, 16, 17, 18, 19]\n"
     ]
    }
   ],
   "source": [
    "print(list(range(0,20)))"
   ]
  },
  {
   "cell_type": "code",
   "execution_count": 25,
   "id": "4fb9afbe",
   "metadata": {},
   "outputs": [
    {
     "name": "stdout",
     "output_type": "stream",
     "text": [
      "0\n",
      "1\n",
      "2\n",
      "3\n",
      "4\n",
      "5\n",
      "6\n",
      "7\n",
      "8\n",
      "9\n",
      "10\n"
     ]
    }
   ],
   "source": [
    "i=0\n",
    "j=True\n",
    "while(j):\n",
    " print(i)\n",
    " i=i+1\n",
    " if(i>10):\n",
    "     j=False\n"
   ]
  },
  {
   "cell_type": "code",
   "execution_count": 27,
   "id": "5ecc9f4b",
   "metadata": {},
   "outputs": [
    {
     "name": "stdout",
     "output_type": "stream",
     "text": [
      "enter number 23\n",
      "0 1 2 3 4 5 6 7 8 9 10 11 12 13 14 15 16 17 18 19 20 21 22 "
     ]
    }
   ],
   "source": [
    "\n",
    "n=int(input(\"enter number \"))\n",
    "for i in range(n):\n",
    " print(i,end=\" \")\n"
   ]
  },
  {
   "cell_type": "code",
   "execution_count": 28,
   "id": "9485f0f2",
   "metadata": {},
   "outputs": [
    {
     "name": "stdout",
     "output_type": "stream",
     "text": [
      "hello\n",
      "hello\n",
      "hello\n",
      "hello\n",
      "hello\n"
     ]
    }
   ],
   "source": [
    "for i in range(5):\n",
    " print(\"hello\")"
   ]
  },
  {
   "cell_type": "code",
   "execution_count": 30,
   "id": "95b1bcd5",
   "metadata": {},
   "outputs": [
    {
     "name": "stdout",
     "output_type": "stream",
     "text": [
      "no of rows 3\n",
      "* * * \n",
      "* * \n",
      "* \n"
     ]
    }
   ],
   "source": [
    "\n",
    "n=int(input(\"no of rows \"))\n",
    "for i in range(n):\n",
    " for j in range(n-i):\n",
    "     print(\"*\",end=\" \")\n",
    " print()"
   ]
  },
  {
   "cell_type": "code",
   "execution_count": 31,
   "id": "4f115a60",
   "metadata": {},
   "outputs": [],
   "source": [
    "ip=\"*i&nfo56@s\"\n",
    "s=\"\"\n"
   ]
  },
  {
   "cell_type": "code",
   "execution_count": 33,
   "id": "67f766c3",
   "metadata": {},
   "outputs": [],
   "source": [
    "for i in ip:\n",
    " if(i.isalpha()):\n",
    "     s+=i.upper()"
   ]
  },
  {
   "cell_type": "code",
   "execution_count": 34,
   "id": "ecb89a67",
   "metadata": {},
   "outputs": [
    {
     "data": {
      "text/plain": [
       "'INFOS'"
      ]
     },
     "execution_count": 34,
     "metadata": {},
     "output_type": "execute_result"
    }
   ],
   "source": [
    "s"
   ]
  },
  {
   "cell_type": "code",
   "execution_count": 35,
   "id": "d3cfc081",
   "metadata": {},
   "outputs": [
    {
     "data": {
      "text/plain": [
       "'*I&NFO56@S'"
      ]
     },
     "execution_count": 35,
     "metadata": {},
     "output_type": "execute_result"
    }
   ],
   "source": [
    "ip.upper()"
   ]
  },
  {
   "cell_type": "code",
   "execution_count": 36,
   "id": "6d5057f4",
   "metadata": {},
   "outputs": [],
   "source": [
    "k='23@#cscASAS433'\n"
   ]
  },
  {
   "cell_type": "code",
   "execution_count": 38,
   "id": "91c9f128",
   "metadata": {},
   "outputs": [
    {
     "name": "stdout",
     "output_type": "stream",
     "text": [
      "@\n",
      "#\n"
     ]
    }
   ],
   "source": [
    "for i in k:\n",
    " if(not i.isalnum()):\n",
    "     print(i)\n"
   ]
  },
  {
   "cell_type": "code",
   "execution_count": null,
   "id": "90615e82",
   "metadata": {},
   "outputs": [],
   "source": []
  }
 ],
 "metadata": {
  "kernelspec": {
   "display_name": "Python 3 (ipykernel)",
   "language": "python",
   "name": "python3"
  },
  "language_info": {
   "codemirror_mode": {
    "name": "ipython",
    "version": 3
   },
   "file_extension": ".py",
   "mimetype": "text/x-python",
   "name": "python",
   "nbconvert_exporter": "python",
   "pygments_lexer": "ipython3",
   "version": "3.9.7"
  }
 },
 "nbformat": 4,
 "nbformat_minor": 5
}
