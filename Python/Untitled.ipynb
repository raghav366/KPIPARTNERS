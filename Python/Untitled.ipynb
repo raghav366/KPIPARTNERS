{
 "cells": [
  {
   "cell_type": "code",
   "execution_count": 1,
   "id": "db523897",
   "metadata": {},
   "outputs": [
    {
     "name": "stdout",
     "output_type": "stream",
     "text": [
      "Current working directory: C:\\Users\\RaghavMalhotra\\my python stuff\n"
     ]
    }
   ],
   "source": [
    "# importing os module\n",
    "import os\n",
    "     \n",
    "# Get the current working\n",
    "# directory (CWD)\n",
    "cwd = os.getcwd()\n",
    "     \n",
    "# Print the current working\n",
    "# directory (CWD)\n",
    "print(\"Current working directory:\", cwd)"
   ]
  },
  {
   "cell_type": "code",
   "execution_count": 2,
   "id": "25a02b45",
   "metadata": {},
   "outputs": [
    {
     "ename": "FileNotFoundError",
     "evalue": "[WinError 3] The system cannot find the path specified: 'D:/Pycharm projects/GeeksforGeeks'",
     "output_type": "error",
     "traceback": [
      "\u001b[1;31m---------------------------------------------------------------------------\u001b[0m",
      "\u001b[1;31mFileNotFoundError\u001b[0m                         Traceback (most recent call last)",
      "\u001b[1;32mC:\\Users\\RAGHAV~1\\AppData\\Local\\Temp/ipykernel_6700/3021123703.py\u001b[0m in \u001b[0;36m<module>\u001b[1;34m\u001b[0m\n\u001b[0;32m     16\u001b[0m \u001b[1;31m# 'GeeksForGeeks' in\u001b[0m\u001b[1;33m\u001b[0m\u001b[1;33m\u001b[0m\u001b[0m\n\u001b[0;32m     17\u001b[0m \u001b[1;31m# '/home / User / Documents'\u001b[0m\u001b[1;33m\u001b[0m\u001b[1;33m\u001b[0m\u001b[0m\n\u001b[1;32m---> 18\u001b[1;33m \u001b[0mos\u001b[0m\u001b[1;33m.\u001b[0m\u001b[0mmkdir\u001b[0m\u001b[1;33m(\u001b[0m\u001b[0mpath\u001b[0m\u001b[1;33m)\u001b[0m\u001b[1;33m\u001b[0m\u001b[1;33m\u001b[0m\u001b[0m\n\u001b[0m\u001b[0;32m     19\u001b[0m \u001b[0mprint\u001b[0m\u001b[1;33m(\u001b[0m\u001b[1;34m\"Directory '% s' created\"\u001b[0m \u001b[1;33m%\u001b[0m \u001b[0mdirectory\u001b[0m\u001b[1;33m)\u001b[0m\u001b[1;33m\u001b[0m\u001b[1;33m\u001b[0m\u001b[0m\n\u001b[0;32m     20\u001b[0m \u001b[1;33m\u001b[0m\u001b[0m\n",
      "\u001b[1;31mFileNotFoundError\u001b[0m: [WinError 3] The system cannot find the path specified: 'D:/Pycharm projects/GeeksforGeeks'"
     ]
    }
   ],
   "source": [
    "# Python program to explain os.mkdir() method\n",
    "\n",
    "# importing os module\n",
    "import os\n",
    "\n",
    "# Directory\n",
    "directory = \"GeeksforGeeks\"\n",
    "\n",
    "# Parent Directory path\n",
    "parent_dir = \"D:/Pycharm projects/\"\n",
    "\n",
    "# Path\n",
    "path = os.path.join(parent_dir, directory)\n",
    "\n",
    "# Create the directory\n",
    "# 'GeeksForGeeks' in\n",
    "# '/home / User / Documents'\n",
    "os.mkdir(path)\n",
    "print(\"Directory '% s' created\" % directory)\n",
    "\n",
    "# Directory\n",
    "directory = \"pythonlanguage\"\n",
    "\n",
    "# Parent Directory path\n",
    "parent_dir = \"D:/Pycharm projects\"\n",
    "\n",
    "# mode\n",
    "mode = 0o666\n",
    "\n",
    "# Path\n",
    "path = os.path.join(parent_dir, directory)\n",
    "\n",
    "# Create the directory\n",
    "# 'GeeksForGeeks' in\n",
    "# '/home / User / Documents'\n",
    "# with mode 0o666\n",
    "os.mkdir(path, mode)\n",
    "print(\"Directory '% s' created\" % directory)\n"
   ]
  },
  {
   "cell_type": "code",
   "execution_count": null,
   "id": "59c869d1",
   "metadata": {},
   "outputs": [],
   "source": []
  }
 ],
 "metadata": {
  "kernelspec": {
   "display_name": "Python 3 (ipykernel)",
   "language": "python",
   "name": "python3"
  },
  "language_info": {
   "codemirror_mode": {
    "name": "ipython",
    "version": 3
   },
   "file_extension": ".py",
   "mimetype": "text/x-python",
   "name": "python",
   "nbconvert_exporter": "python",
   "pygments_lexer": "ipython3",
   "version": "3.9.7"
  }
 },
 "nbformat": 4,
 "nbformat_minor": 5
}
