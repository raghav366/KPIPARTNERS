{
 "cells": [
  {
   "cell_type": "code",
   "execution_count": 2,
   "id": "ea6d519a",
   "metadata": {},
   "outputs": [
    {
     "name": "stdout",
     "output_type": "stream",
     "text": [
      "First!\n",
      "Executing Finally...\n",
      "End of program\n"
     ]
    }
   ],
   "source": [
    "try:\n",
    " f = open('demo1.txt')\n",
    " if f.name == 'demo123.txt':\n",
    "     raise Exception\n",
    "except IOError as e:\n",
    " print('First!')\n",
    "except Exception as e:\n",
    " print('Second')\n",
    "else:\n",
    " print(f.read())\n",
    " f.close()\n",
    "finally:\n",
    " print(\"Executing Finally...\")\n",
    "print('End of program')\n",
    "#Because demo1.txt file exist in my user folder"
   ]
  },
  {
   "cell_type": "code",
   "execution_count": 3,
   "id": "860ac32d",
   "metadata": {},
   "outputs": [
    {
     "name": "stdout",
     "output_type": "stream",
     "text": [
      "You are eligible to purchase Dsa Self Paced\n"
     ]
    }
   ],
   "source": [
    "# initialize the amount variable\n",
    "amount = 10000\n",
    "# check that You are eligible to\n",
    "if(amount>2999):\n",
    " print(\"You are eligible to purchase Dsa Self Paced\")"
   ]
  },
  {
   "cell_type": "code",
   "execution_count": 5,
   "id": "ab59615f",
   "metadata": {},
   "outputs": [
    {
     "name": "stdout",
     "output_type": "stream",
     "text": [
      "-5.0\n",
      "a/b result in 0\n"
     ]
    }
   ],
   "source": [
    "# Program to depict else clause with try-except\n",
    "# Function which returns a/b\n",
    "def AbyB(a , b):\n",
    " try:\n",
    "     c = ((a+b) / (a-b))\n",
    " except ZeroDivisionError:\n",
    "     print(\"a/b result in 0\")\n",
    " else:\n",
    "     print(c)\n",
    "# Driver program to test above function\n",
    "AbyB(2.0, 3.0)\n",
    "AbyB(3.0, 3.0)"
   ]
  },
  {
   "cell_type": "code",
   "execution_count": 8,
   "id": "982808b7",
   "metadata": {},
   "outputs": [
    {
     "name": "stdout",
     "output_type": "stream",
     "text": [
      "Enter a number: 5\n",
      "Not an even number!\n"
     ]
    }
   ],
   "source": [
    "# program to print the reciprocal of even numbers\n",
    "try:\n",
    " num = int(input(\"Enter a number: \"))\n",
    " assert num % 2 == 0\n",
    "except:\n",
    " print(\"Not an even number!\")\n",
    "else:\n",
    " reciprocal = 1/num\n",
    " print(reciprocal)\n"
   ]
  },
  {
   "cell_type": "code",
   "execution_count": 9,
   "id": "e1835b38",
   "metadata": {},
   "outputs": [
    {
     "name": "stdout",
     "output_type": "stream",
     "text": [
      "Can't divide by zero\n",
      "This is always executed\n"
     ]
    }
   ],
   "source": [
    "# Python program to demonstrate finally\n",
    "# No exception Exception raised in try block\n",
    "try:\n",
    " k = 5//0 # raises divide by zero exception.\n",
    " print(k)\n",
    "# handles zerodivision exception\n",
    "except ZeroDivisionError:\n",
    " print(\"Can't divide by zero\")\n",
    "finally:\n",
    " \n",
    " # this block is always executed\n",
    " # regardless of exception generation.\n",
    " print('This is always executed')"
   ]
  },
  {
   "cell_type": "code",
   "execution_count": 10,
   "id": "32fc7b65",
   "metadata": {},
   "outputs": [
    {
     "name": "stdout",
     "output_type": "stream",
     "text": [
      "An exception\n"
     ]
    }
   ],
   "source": [
    "# Program to depict Raising Exception\n",
    "try:\n",
    " raise NameError(\"Hi there\") # Raise Error\n",
    "except NameError:\n",
    " print(\"An exception\")\n",
    " #raise # To determine whether the exception was raised or not"
   ]
  },
  {
   "cell_type": "code",
   "execution_count": 11,
   "id": "97413039",
   "metadata": {},
   "outputs": [
    {
     "name": "stdout",
     "output_type": "stream",
     "text": [
      "init method called\n",
      "enter method called\n",
      "with statement block\n",
      "exit method called\n"
     ]
    }
   ],
   "source": [
    "class ContextManager():\n",
    " def __init__(self):\n",
    "     print('init method called')\n",
    " \n",
    " def __enter__(self): #wrks before the control enters with\n",
    "     print('enter method called')\n",
    "     return self\n",
    " \n",
    " def __exit__(self, exc_type, exc_value, exc_traceback): #to exit the file automatically when control leaves the with\n",
    "     print('exit method called')\n",
    " \n",
    "with ContextManager() as manager:\n",
    " print('with statement block')"
   ]
  },
  {
   "cell_type": "code",
   "execution_count": 17,
   "id": "77ece9c6",
   "metadata": {},
   "outputs": [
    {
     "name": "stdout",
     "output_type": "stream",
     "text": [
      "True\n",
      "['.ipynb_checkpoints', 'arithmetic basic.ipynb', 'Comprension,List,Lambda.ipynb', 'demo1.txt', 'Exception handling.ipynb', 'Functions.ipynb', 'Iterators.ipynb', 'Loop.ipynb', 'OOP.ipynb', 'String And List.ipynb', 'Untitled3.ipynb']\n",
      "['.ipynb_checkpoints', 'arithmetic basic.ipynb', 'Comprension,List,Lambda.ipynb', 'demo1.txt', 'Exception handling.ipynb', 'Functions.ipynb', 'Iterators.ipynb', 'Loop.ipynb', 'OOP.ipynb', 'String And List.ipynb', 'Untitled3.ipynb']\n"
     ]
    }
   ],
   "source": [
    "#### Using contextlib ####\n",
    "import os\n",
    "from contextlib import contextmanager\n",
    "@contextmanager\n",
    "def open_file(file, mode):\n",
    "     f = open(file, mode)\n",
    "     yield f\n",
    "     f.close()\n",
    "with open_file('demo1.txt', 'w') as f:\n",
    "     f.write('Lorem ipsum dolor sit amet, consectetur adipiscing elit.')\n",
    "print(f.closed)\n",
    "#### CD Example ####\n",
    "cwd = os.getcwd()\n",
    "#os.chdir('random')\n",
    "print(os.listdir())\n",
    "os.chdir(cwd)\n",
    "cwd = os.getcwd()\n",
    "#os.chdir('TestVenv')\n",
    "print(os.listdir())\n",
    "os.chdir(cwd)"
   ]
  },
  {
   "cell_type": "code",
   "execution_count": 18,
   "id": "e5f085a0",
   "metadata": {},
   "outputs": [
    {
     "name": "stdout",
     "output_type": "stream",
     "text": [
      "Lorem ipsum dolor sit amet, consectetur adipiscing elit.\n"
     ]
    }
   ],
   "source": [
    "f= open('demo1.txt')\n",
    "print(f.read())\n"
   ]
  },
  {
   "cell_type": "code",
   "execution_count": 27,
   "id": "b1d3430a",
   "metadata": {},
   "outputs": [
    {
     "name": "stdout",
     "output_type": "stream",
     "text": [
      "['.ipynb_checkpoints', 'arithmetic basic.ipynb', 'Comprension,List,Lambda.ipynb', 'demo1.txt', 'Exception handling.ipynb', 'Functions.ipynb', 'Iterators.ipynb', 'Loop.ipynb', 'OOP.ipynb', 'String And List.ipynb', 'Untitled3.ipynb']\n",
      "\n",
      "\n",
      "['.ipynb_checkpoints', 'arithmetic basic.ipynb', 'Comprension,List,Lambda.ipynb', 'demo1.txt', 'Exception handling.ipynb', 'Functions.ipynb', 'Iterators.ipynb', 'Loop.ipynb', 'OOP.ipynb', 'String And List.ipynb', 'Untitled3.ipynb']\n"
     ]
    }
   ],
   "source": [
    "import os\n",
    "from contextlib import contextmanager\n",
    "@contextmanager\n",
    "def change_dir(destination):\n",
    "     try:\n",
    "         cwd = os.getcwd()\n",
    "         os.chdir(destination)\n",
    "         yield\n",
    "     finally:\n",
    "         os.chdir(cwd)\n",
    "#with change_dir('random'):\n",
    "print(os.listdir())\n",
    "print('\\n')\n",
    "#with change_dir('TestVenv'):\n",
    "print(os.listdir())"
   ]
  },
  {
   "cell_type": "code",
   "execution_count": null,
   "id": "f4853633",
   "metadata": {},
   "outputs": [],
   "source": []
  }
 ],
 "metadata": {
  "kernelspec": {
   "display_name": "Python 3 (ipykernel)",
   "language": "python",
   "name": "python3"
  },
  "language_info": {
   "codemirror_mode": {
    "name": "ipython",
    "version": 3
   },
   "file_extension": ".py",
   "mimetype": "text/x-python",
   "name": "python",
   "nbconvert_exporter": "python",
   "pygments_lexer": "ipython3",
   "version": "3.9.7"
  }
 },
 "nbformat": 4,
 "nbformat_minor": 5
}
